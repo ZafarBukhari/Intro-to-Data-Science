{
 "cells": [
  {
   "cell_type": "code",
   "execution_count": 1,
   "metadata": {},
   "outputs": [
    {
     "name": "stdout",
     "output_type": "stream",
     "text": [
      "hello world!\n",
      "8\n"
     ]
    }
   ],
   "source": [
    "print('hello world!')\n",
    "print( 3 + 5 )"
   ]
  },
  {
   "cell_type": "code",
   "execution_count": 1,
   "metadata": {},
   "outputs": [],
   "source": [
    "x = int(98.6)"
   ]
  },
  {
   "cell_type": "code",
   "execution_count": 2,
   "metadata": {},
   "outputs": [
    {
     "data": {
      "text/plain": [
       "int"
      ]
     },
     "execution_count": 2,
     "metadata": {},
     "output_type": "execute_result"
    }
   ],
   "source": [
    "type(x)"
   ]
  },
  {
   "cell_type": "code",
   "execution_count": 3,
   "metadata": {},
   "outputs": [
    {
     "name": "stdout",
     "output_type": "stream",
     "text": [
      "98\n"
     ]
    }
   ],
   "source": [
    "print(x)"
   ]
  },
  {
   "cell_type": "code",
   "execution_count": 4,
   "metadata": {},
   "outputs": [
    {
     "name": "stdout",
     "output_type": "stream",
     "text": [
      "Enter Hours:45\n",
      "Enter Rate:10.50\n",
      "472.5\n"
     ]
    }
   ],
   "source": [
    "hrs = input(\"Enter Hours:\")\n",
    "h = float(hrs)\n",
    "rate = input(\"Enter Rate:\")\n",
    "r = float(rate)\n",
    "gp = h * r\n",
    "print(gp)"
   ]
  },
  {
   "cell_type": "code",
   "execution_count": 14,
   "metadata": {},
   "outputs": [
    {
     "name": "stdout",
     "output_type": "stream",
     "text": [
      "Enter Hours:45\n",
      "Enter Rate:10.50\n",
      "498.75\n"
     ]
    }
   ],
   "source": [
    "hrs = input(\"Enter Hours:\")\n",
    "h = float(hrs)\n",
    "rate = input(\"Enter Rate:\")\n",
    "r = float(rate)\n",
    "if h <= 40.0:\n",
    "    gp = h * r\n",
    "    print(gp)\n",
    "elif h > 40.0:    \n",
    "    extra_hrs = h - 40\n",
    "    extra_hrs = int(extra_hrs)\n",
    "    normal_hrs = h - extra_hrs\n",
    "    normal_hrs = int(normal_hrs) \n",
    "    gp = (normal_hrs * r) + (extra_hrs * (r * 1.5))\n",
    "    print(gp)"
   ]
  },
  {
   "cell_type": "code",
   "execution_count": 3,
   "metadata": {},
   "outputs": [
    {
     "name": "stdout",
     "output_type": "stream",
     "text": [
      "Enter Score: 1.4\n",
      "error, please enter score in range between 0.0 to 1.0\n"
     ]
    }
   ],
   "source": [
    "s_score = input(\"Enter Score: \")\n",
    "f_score = float(s_score)\n",
    "\n",
    "if f_score >= 0.0 and f_score <= 1.0:\n",
    "    if f_score >= 0.9:\n",
    "        print(\"A\")\n",
    "    elif f_score >= 0.8:\n",
    "        print(\"B\")\n",
    "    elif f_score >= 0.7:\n",
    "        print(\"C\")\n",
    "    elif f_score >= 0.6:\n",
    "        print(\"D\")\n",
    "    else:\n",
    "        print(\"F\")    \n",
    "else:\n",
    "    print(\"error, please enter score in range between 0.0 to 1.0\")\n",
    "    \n",
    "    \n"
   ]
  },
  {
   "cell_type": "markdown",
   "metadata": {},
   "source": [
    "## Assignment 4.6"
   ]
  },
  {
   "cell_type": "code",
   "execution_count": 6,
   "metadata": {},
   "outputs": [
    {
     "name": "stdout",
     "output_type": "stream",
     "text": [
      "Enter Hours:45\n",
      "Enter Rate:10.50\n",
      "498.75\n"
     ]
    }
   ],
   "source": [
    "hrs = input(\"Enter Hours:\")\n",
    "h = float(hrs)\n",
    "rate = input(\"Enter Rate:\")\n",
    "r = float(rate)\n",
    "\n",
    "def computepay(h,r):\n",
    "    if h > 40.0:\n",
    "        extra_hrs = h - 40\n",
    "        extra_hrs = int(extra_hrs)\n",
    "        normal_hrs = h - extra_hrs\n",
    "        normal_hrs = int(normal_hrs) \n",
    "        gp = (normal_hrs * r) + (extra_hrs * (r * 1.5))\n",
    "    else:\n",
    "        gp = h * r\n",
    "    return gp\n",
    "pay = computepay(h,r)\n",
    "print(pay)"
   ]
  },
  {
   "cell_type": "markdown",
   "metadata": {},
   "source": [
    "## Counting in a Loop:"
   ]
  },
  {
   "cell_type": "code",
   "execution_count": 7,
   "metadata": {},
   "outputs": [
    {
     "name": "stdout",
     "output_type": "stream",
     "text": [
      "Before 0\n",
      "1 9\n",
      "2 41\n",
      "3 12\n",
      "4 3\n",
      "5 74\n",
      "6 15\n",
      "After 6\n"
     ]
    }
   ],
   "source": [
    "zork = 0\n",
    "print('Before',zork)\n",
    "for thing in [9,41,12,3,74,15]:\n",
    "    zork = zork + 1\n",
    "    print(zork, thing)\n",
    "print('After',zork)"
   ]
  },
  {
   "cell_type": "markdown",
   "metadata": {},
   "source": [
    "## Summing in a Loop:"
   ]
  },
  {
   "cell_type": "code",
   "execution_count": 8,
   "metadata": {},
   "outputs": [
    {
     "name": "stdout",
     "output_type": "stream",
     "text": [
      "Before 0\n",
      "9 9\n",
      "50 41\n",
      "62 12\n",
      "65 3\n",
      "139 74\n",
      "154 15\n",
      "After 154\n"
     ]
    }
   ],
   "source": [
    "zork = 0\n",
    "print('Before',zork)\n",
    "for thing in [9,41,12,3,74,15]:\n",
    "    zork = zork + thing\n",
    "    print(zork, thing)\n",
    "print('After',zork)"
   ]
  },
  {
   "cell_type": "markdown",
   "metadata": {},
   "source": [
    "## Finding the Average in a Loop:"
   ]
  },
  {
   "cell_type": "code",
   "execution_count": 10,
   "metadata": {},
   "outputs": [
    {
     "name": "stdout",
     "output_type": "stream",
     "text": [
      "Before 0 0\n",
      "1 9 9\n",
      "2 50 41\n",
      "3 62 12\n",
      "4 65 3\n",
      "5 139 74\n",
      "6 154 15\n",
      "After 6 154 25.666666666666668\n"
     ]
    }
   ],
   "source": [
    "count = 0\n",
    "sum = 0\n",
    "print('Before',count,sum)\n",
    "for value in [9,41,12,3,74,15]:\n",
    "    count = count + 1\n",
    "    sum = sum + value\n",
    "    print(count,sum,value)\n",
    "print('After',count,sum,sum/count)\n",
    "\n"
   ]
  },
  {
   "cell_type": "markdown",
   "metadata": {},
   "source": [
    "## Filtering in a Loop:"
   ]
  },
  {
   "cell_type": "code",
   "execution_count": 11,
   "metadata": {},
   "outputs": [
    {
     "name": "stdout",
     "output_type": "stream",
     "text": [
      "Before\n",
      "Large number 41\n",
      "Large number 74\n",
      "After\n"
     ]
    }
   ],
   "source": [
    "print('Before')\n",
    "for value in [9,41,12,3,74,15]:\n",
    "    if value > 20:\n",
    "        print('Large number',value)\n",
    "print('After')"
   ]
  },
  {
   "cell_type": "markdown",
   "metadata": {},
   "source": [
    "## Search Using a Boolean Variable:"
   ]
  },
  {
   "cell_type": "code",
   "execution_count": 13,
   "metadata": {},
   "outputs": [
    {
     "name": "stdout",
     "output_type": "stream",
     "text": [
      "Before False\n",
      "False 9\n",
      "False 41\n",
      "False 12\n",
      "True 3\n",
      "True 74\n",
      "True 15\n",
      "After True\n"
     ]
    }
   ],
   "source": [
    "found = False\n",
    "print('Before',found)\n",
    "for value in [9,41,12,3,74,15]:\n",
    "    if value == 3:\n",
    "        found = True\n",
    "    print(found,value)\n",
    "print('After',found)"
   ]
  },
  {
   "cell_type": "markdown",
   "metadata": {},
   "source": [
    "## How to find the Largest Value:"
   ]
  },
  {
   "cell_type": "code",
   "execution_count": 14,
   "metadata": {},
   "outputs": [
    {
     "name": "stdout",
     "output_type": "stream",
     "text": [
      "Before -1\n",
      "9 9\n",
      "41 41\n",
      "41 12\n",
      "41 3\n",
      "74 74\n",
      "74 15\n",
      "After 74\n"
     ]
    }
   ],
   "source": [
    "largest_so_for = -1\n",
    "print('Before', largest_so_for)\n",
    "for the_num in [9,41,12,3,74,15]:\n",
    "    if the_num > largest_so_for:\n",
    "        largest_so_for = the_num\n",
    "    print(largest_so_for, the_num)\n",
    "print('After',largest_so_for)"
   ]
  },
  {
   "cell_type": "markdown",
   "metadata": {},
   "source": [
    "## How to find the Smallest Value:"
   ]
  },
  {
   "cell_type": "code",
   "execution_count": 19,
   "metadata": {},
   "outputs": [
    {
     "name": "stdout",
     "output_type": "stream",
     "text": [
      "Before\n",
      "9 9\n",
      "9 41\n",
      "9 12\n",
      "3 3\n",
      "3 74\n",
      "3 15\n",
      "After 3\n"
     ]
    }
   ],
   "source": [
    "smallest = None\n",
    "print('Before')\n",
    "for value in [9,41,12,3,74,15]:\n",
    "    if smallest is None:\n",
    "        smallest = value\n",
    "    elif value < smallest:\n",
    "        smallest = value\n",
    "    print(smallest,value)\n",
    "print('After',smallest)"
   ]
  },
  {
   "cell_type": "markdown",
   "metadata": {},
   "source": [
    "## The \"is\" and \"is not\" Operators:"
   ]
  },
  {
   "cell_type": "code",
   "execution_count": 25,
   "metadata": {},
   "outputs": [
    {
     "name": "stdout",
     "output_type": "stream",
     "text": [
      "Before\n",
      "Smallest is None\n",
      "After\n"
     ]
    }
   ],
   "source": [
    "smallest = None\n",
    "print('Before')\n",
    "if smallest is None:\n",
    "    print('Smallest is',smallest)\n",
    "elif smallest is not None:\n",
    "    print('Smallest is not',smallest)\n",
    "print('After')"
   ]
  },
  {
   "cell_type": "markdown",
   "metadata": {},
   "source": [
    "## Assignment - 5.1:"
   ]
  },
  {
   "cell_type": "code",
   "execution_count": 29,
   "metadata": {},
   "outputs": [
    {
     "name": "stdout",
     "output_type": "stream",
     "text": [
      "Enter a number:4\n",
      "Enter a number:7\n",
      "Enter a number:0\n",
      "Enter a number:4\n",
      "Enter a number:8\n",
      "Enter a number:dfsd\n",
      "Invalid input.\n",
      "Enter a number:sdfs\n",
      "Invalid input.\n",
      "Enter a number:3\n",
      "Enter a number:sdfsa\n",
      "Invalid input.\n",
      "Enter a number:done\n",
      "26.0 6 4.333333333333333\n"
     ]
    }
   ],
   "source": [
    "num = 0\n",
    "tot = 0.0\n",
    "while True:\n",
    "    sval = input('Enter a number:')\n",
    "    if sval == 'done' or sval == 'Done':\n",
    "        break\n",
    "    try:\n",
    "        fval = float(sval)\n",
    "    except:\n",
    "        print('Invalid input.')\n",
    "        continue\n",
    "    num = num + 1\n",
    "    tot = tot + fval\n",
    "print(tot,num,tot/num)\n",
    "    "
   ]
  },
  {
   "cell_type": "markdown",
   "metadata": {},
   "source": [
    "## Assignment - 5.2:"
   ]
  },
  {
   "cell_type": "code",
   "execution_count": 1,
   "metadata": {},
   "outputs": [
    {
     "name": "stdout",
     "output_type": "stream",
     "text": [
      "Enter a number: 5\n",
      "Enter a number: 10\n",
      "Enter a number: 5\n",
      "Enter a number: 7\n",
      "Enter a number: bon\n",
      "Invalid input.\n",
      "Enter a number: 9\n",
      "Enter a number: done\n",
      "Maximum is 10\n",
      "Minimum is 5\n"
     ]
    }
   ],
   "source": [
    "largest = 0\n",
    "smallest = None\n",
    "myList = []\n",
    "while True:\n",
    "    num = input(\"Enter a number: \")\n",
    "    if num == \"done\" or num == \"Done\":\n",
    "        break\n",
    "    try:\n",
    "        num = int(num)\n",
    "    except:\n",
    "        print('Invalid input.')\n",
    "        continue\n",
    "    myList.append(num)\n",
    "    \n",
    "for the_num in myList:\n",
    "    if the_num > largest:\n",
    "        largest = the_num\n",
    "        \n",
    "for value in myList:\n",
    "    if smallest is None:\n",
    "        smallest = value\n",
    "    elif value < smallest:\n",
    "        smallest = value    \n",
    "    \n",
    "print('Maximum is',largest)\n",
    "print('Minimum is',smallest)"
   ]
  },
  {
   "cell_type": "code",
   "execution_count": 2,
   "metadata": {},
   "outputs": [],
   "source": [
    "import csv\n",
    "with open(\"potions.csv\") as f:\n",
    "    contents_of_potions = csv.reader(f)\n",
    "    myList_potions = []\n",
    "    for each_line in contents_of_potions:\n",
    "        myList_potions += each_line"
   ]
  },
  {
   "cell_type": "code",
   "execution_count": 4,
   "metadata": {},
   "outputs": [
    {
     "name": "stdout",
     "output_type": "stream",
     "text": [
      "['Potion', 'Effect', 'Telltale Property', 'Amortentia', 'Love', 'Steam', 'Confusing Concoction', 'Confusion', 'Nausea', 'Draught of Living Death', 'Sleep', 'Turns leaf to ashes', 'Draught of Peace', 'Comfort', 'None', 'Felix Felicis', 'Luck', 'Giddiness', 'Hiccoughing Potion', 'Stops hiccoughs', 'None', 'Pepperup Potion', 'Health', 'Steaming Ears', 'Polyjuice Potion', 'Shape shifting', 'Voice change', 'Skele-Gro', 'Bone growth', 'Disgusting taste', \"Sleekeazy's Hair Potion\", 'Hair straightener', 'None', 'Veritaserum', 'Truth-telling', 'None']\n"
     ]
    }
   ],
   "source": [
    "print(myList_potions)"
   ]
  },
  {
   "cell_type": "code",
   "execution_count": 8,
   "metadata": {},
   "outputs": [],
   "source": [
    "index_of_draught_of_peace = myList_potions.index('Draught of Peace')"
   ]
  },
  {
   "cell_type": "code",
   "execution_count": 12,
   "metadata": {},
   "outputs": [
    {
     "name": "stdout",
     "output_type": "stream",
     "text": [
      "Index of Draught of Peace is 12.\n"
     ]
    }
   ],
   "source": [
    "print(f\"Index of Draught of Peace is {index_of_draught_of_peace}.\")"
   ]
  },
  {
   "cell_type": "code",
   "execution_count": null,
   "metadata": {},
   "outputs": [],
   "source": []
  }
 ],
 "metadata": {
  "kernelspec": {
   "display_name": "Python 3",
   "language": "python",
   "name": "python3"
  },
  "language_info": {
   "codemirror_mode": {
    "name": "ipython",
    "version": 3
   },
   "file_extension": ".py",
   "mimetype": "text/x-python",
   "name": "python",
   "nbconvert_exporter": "python",
   "pygments_lexer": "ipython3",
   "version": "3.7.3"
  }
 },
 "nbformat": 4,
 "nbformat_minor": 2
}
